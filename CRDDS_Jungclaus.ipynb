{
 "cells": [
  {
   "cell_type": "markdown",
   "id": "fee392c8",
   "metadata": {},
   "source": [
    "# Introduction\n",
    "\n",
    "After taking my first course focused on Python, I decided to focus this project getting familiar with the Python syntax, in particular understanding how data cleaning works in the Python environment, and understanding basic plotting functions. While I had higher hopes for my analysis, I ultimately decided to curb my ambition, as data cleaning and data reading (from CSV files) was much more challenging than expected.\n",
    "\n",
    "# Hypothesis & Research Question\n",
    "\n",
    "### Primary hypothesis:\n",
    "There will be a relationship between public sector spending and public sector construction over time; there will be an inverse correlation between non-public sector spending and federal spending over time (because these areas likely have less taxes and/or fewer resources overall)\n",
    "### Secondary hypothesis:\n",
    "There will be a relationship between income and private spending in any given U.S. state over time; there will be an inverse between income and public spending in a given U.S. state over time\n",
    "### How I will answer my question(s)\n",
    "My primary hypothesis is one that I initially hoped to answer using available data from the U.S. Census Bureau, which has extensive data on public and private infrastructure spending as well as income. After searching for the right dataset for several hours, I realized that I would not be able to study this question, including the concept of spending over time, which would be necessary to establish some sort of a relationship with multiple datapoints. \n",
    "\n",
    "This led me to consider the secondary hypothesis, which became the focus of this short study - which looks at the relationship between average income vs. the private sector construction spending in a given state.\n",
    "\n",
    "# Dataset Evaluation\n",
    "Data set Evaluation: A brief (250-500 words) that evaluates a data set with respect to one of the FAIR principles, and best practices for data publishing more generally. In the write-up, you might reflect on the challenges that a user of the data set might encounter, or suggest changes to the data set’s documentation or metadata with a view towards enhancing its reusability for future users.\n",
    "\n",
    "### Evaluation\n",
    "With regard to the FAIR principles, I would certainly note that the data that I used was certainly \"findable\" in a straightforward fashion. The data were available on a government website, and explicitly described within the census.gov website. That said, I'm not knowledgable enough in this space to ensure that these data have rich metadata or that the census bureau did in fact attach enough descriptors to make these data easily accessible.\n",
    "I would say that the data are NOT very interoperable based on the descriptors of FAIR practices. As far as I know, the data do not leverage a common vocabulary for this type of data, they do not clearly reference other data or metadata, and they do not feature a formal, accessible, shared, and broadly applicable language for knowledge representation. \n",
    "\n",
    "### Challenges and suggestions\n",
    "While the U.S. Census Bureau has a great deal of valid and usable data, the consistency in how one accesses the data, in how the data is presented, and in the data's availability as a time series are all lacking. Several pages on the U.S. Census Bureau's webpage (e.g., https://data.census.gov/cedsci/table?q=Income%20and%20Earnings&g=0100000US.04000.001&tid=ACSST1Y2019.S1901&hidePreview=true) appear well-tabulated and well designed, but ultimately, the data can be very unwieldy. For example, in extracting income data for each state in the U.S., there was a large number of unnecessary and poorly-named columns that were difficult to manipulate for a new Python user, and impossible to remove from the exported dataset. On the other side, some of the older Census Bureau data was organized in a more straightforward fashion, but time series data was either not available, or difficult to assemble as it was available in a large number of independent documents. This led me to build useful, but tedious skills in combining files via Python.\n",
    "\n",
    "\n",
    "\n",
    "\n",
    "\n",
    "\n",
    "https://www.nature.com/articles/sdata201618\n"
   ]
  },
  {
   "cell_type": "markdown",
   "id": "65491266",
   "metadata": {},
   "source": [
    "# Start of code\n",
    "\n",
    "Below this point, we will start our code, including installation of some of the key packages needed to run this script, loading of those packages, and then the processing and results. "
   ]
  },
  {
   "cell_type": "code",
   "execution_count": 3,
   "id": "f19708ca",
   "metadata": {},
   "outputs": [],
   "source": [
    "#If needed, un-comment these and run them!\n",
    "#!pip install pandas\n",
    "#!pip install datatable\n"
   ]
  },
  {
   "cell_type": "code",
   "execution_count": 4,
   "id": "157be8c9",
   "metadata": {},
   "outputs": [
    {
     "data": {
      "text/html": [
       "<style type='text/css'>\n",
       ".datatable table.frame { margin-bottom: 0; }\n",
       ".datatable table.frame thead { border-bottom: none; }\n",
       ".datatable table.frame tr.coltypes td {  color: #FFFFFF;  line-height: 6px;  padding: 0 0.5em;}\n",
       ".datatable .bool    { background: #DDDD99; }\n",
       ".datatable .object  { background: #565656; }\n",
       ".datatable .int     { background: #5D9E5D; }\n",
       ".datatable .float   { background: #4040CC; }\n",
       ".datatable .str     { background: #CC4040; }\n",
       ".datatable .time    { background: #40CC40; }\n",
       ".datatable .row_index {  background: var(--jp-border-color3);  border-right: 1px solid var(--jp-border-color0);  color: var(--jp-ui-font-color3);  font-size: 9px;}\n",
       ".datatable .frame tbody td { text-align: left; }\n",
       ".datatable .frame tr.coltypes .row_index {  background: var(--jp-border-color0);}\n",
       ".datatable th:nth-child(2) { padding-left: 12px; }\n",
       ".datatable .hellipsis {  color: var(--jp-cell-editor-border-color);}\n",
       ".datatable .vellipsis {  background: var(--jp-layout-color0);  color: var(--jp-cell-editor-border-color);}\n",
       ".datatable .na {  color: var(--jp-cell-editor-border-color);  font-size: 80%;}\n",
       ".datatable .sp {  opacity: 0.25;}\n",
       ".datatable .footer { font-size: 9px; }\n",
       ".datatable .frame_dimensions {  background: var(--jp-border-color3);  border-top: 1px solid var(--jp-border-color0);  color: var(--jp-ui-font-color3);  display: inline-block;  opacity: 0.6;  padding: 1px 10px 1px 5px;}\n",
       "</style>\n"
      ],
      "text/plain": [
       "<IPython.core.display.HTML object>"
      ]
     },
     "metadata": {},
     "output_type": "display_data"
    }
   ],
   "source": [
    "import pandas as pd\n",
    "from pathlib import Path\n",
    "from datatable import fread, iread, rbind\n",
    "import matplotlib.pyplot as plt\n",
    "plt.style.use('seaborn-whitegrid')\n",
    "import numpy as np"
   ]
  },
  {
   "cell_type": "markdown",
   "id": "4da99833",
   "metadata": {},
   "source": [
    "# Reading and cleaning files\n",
    "\n",
    "The first few code chunks include reading a single .csv file, cleaning the file, and then repeating the process for all remaining data files. You'll notice several commented 'print' commands, which were used to view the data after initially reading it.\n",
    "\n",
    "Ultimately, the data from all files is put into a single dataframe.\n",
    "\n",
    "Where appropriate, the acronym 'HMI' refers to household median income."
   ]
  },
  {
   "cell_type": "code",
   "execution_count": 5,
   "id": "c991d7b5",
   "metadata": {},
   "outputs": [],
   "source": [
    "state_2010 = pd.read_csv (r'/Users/mjungclaus/PycharmProjects/CRDDSProject/raw_data/ACSST1Y2010.csv')   #read the csv file (put 'r' before the path string to address any special characters in the path, such as '\\'). Don't forget to put the file name at the end of the path + \".csv\"\n",
    "state_2010 = state_2010.iloc[1: , :]\n",
    "#print (state_2010)"
   ]
  },
  {
   "cell_type": "code",
   "execution_count": 6,
   "id": "0812a3f4",
   "metadata": {},
   "outputs": [
    {
     "name": "stdout",
     "output_type": "stream",
     "text": [
      "                   State HMI_2010\n",
      "1                Alabama    55778\n",
      "2                 Alaska    81290\n",
      "3                Arizona    62838\n",
      "4               Arkansas    52382\n",
      "5             California    79465\n",
      "6               Colorado    72423\n",
      "7            Connecticut    90074\n",
      "8               Delaware    72550\n",
      "9   District of Columbia    92959\n",
      "10               Florida    61877\n",
      "11               Georgia    62967\n",
      "12                Hawaii    79560\n",
      "13                 Idaho    56086\n",
      "14              Illinois    72022\n",
      "15               Indiana    58451\n",
      "16                  Iowa    60901\n",
      "17                Kansas    63094\n",
      "18              Kentucky    54320\n",
      "19             Louisiana    59116\n",
      "20                 Maine    59300\n",
      "21              Maryland    89563\n",
      "22         Massachusetts    84005\n",
      "23              Michigan    59772\n",
      "24             Minnesota    71345\n",
      "25           Mississippi    50591\n",
      "26              Missouri    59525\n",
      "27               Montana    56266\n",
      "28              Nebraska    61630\n",
      "29                Nevada    66630\n",
      "30         New Hampshire    77323\n",
      "31            New Jersey    90882\n",
      "32            New Mexico    57655\n",
      "33              New York    78726\n",
      "34        North Carolina    59053\n",
      "35          North Dakota    61289\n",
      "36                  Ohio    59654\n",
      "37              Oklahoma    56533\n",
      "38                Oregon    61552\n",
      "39          Pennsylvania    65878\n",
      "40          Rhode Island    69840\n",
      "41        South Carolina    56365\n",
      "42          South Dakota    59391\n",
      "43             Tennessee    56835\n",
      "44                 Texas    66756\n",
      "45                  Utah    68176\n",
      "46               Vermont    63768\n",
      "47              Virginia    81608\n",
      "48            Washington    71739\n",
      "49         West Virginia    50574\n",
      "50             Wisconsin    62376\n",
      "51               Wyoming    66710\n",
      "52           Puerto Rico    29365\n"
     ]
    }
   ],
   "source": [
    "state_2010=state_2010[['NAME','S1901_C01_013E']]\n",
    "state_2010.columns=['State','HMI_2010']\n",
    "print(state_2010)\n"
   ]
  },
  {
   "cell_type": "code",
   "execution_count": 7,
   "id": "d8840613",
   "metadata": {},
   "outputs": [
    {
     "name": "stdout",
     "output_type": "stream",
     "text": [
      "                     HMI_2010 HMI_2011 HMI_2012 HMI_2013 HMI_2014 HMI_2015  \\\n",
      "State                                                                        \n",
      "Alabama                 55778    57208    57372    59294    59464    62307   \n",
      "Alaska                  81290    82665    84738    88758    89094    92876   \n",
      "Arizona                 62838    62927    64841    66389    68103    70638   \n",
      "Arkansas                52382    53204    54116    55547    57693    59275   \n",
      "California              79465    80848    82159    85707    88595    91757   \n",
      "Colorado                72423    74852    76489    79381    82295    85915   \n",
      "Connecticut             90074    92248    94796    97801   100948   101347   \n",
      "Delaware                72550    76400    74460    76995    78773    81120   \n",
      "District of Columbia    92959    98177   102160   102882   103525   114600   \n",
      "Florida                 61877    63006    64229    65728    67510    70462   \n",
      "Georgia                 62967    63554    65623    67134    68820    71555   \n",
      "Hawaii                  79560    78802    81812    86783    86866    92496   \n",
      "Idaho                   56086    56222    58716    60665    64115    63921   \n",
      "Illinois                72022    73068    75201    78009    79379    82699   \n",
      "Indiana                 58451    60278    61272    63249    64422    67065   \n",
      "Iowa                    60901    62876    64524    68075    69618    70036   \n",
      "Kansas                  63094    64545    66618    68827    71045    73069   \n",
      "Kentucky                54320    56104    56738    59323    59057    62596   \n",
      "Louisiana               59116    58822    60911    63132    63728    64895   \n",
      "Maine                   59300    60800    61137    62579    65842    67135   \n",
      "Maryland                89563    90925    92805    96032    97016    99957   \n",
      "Massachusetts           84005    86009    89273    91842    95404    97586   \n",
      "Michigan                59772    61926    63031    65134    66794    69492   \n",
      "Minnesota               71345    73578    76261    78537    81824    83488   \n",
      "Mississippi             50591    51355    52677    52780    54887    55495   \n",
      "Missouri                59525    61431    61301    63241    65169    68065   \n",
      "Montana                 56266    56992    59991    62831    62309    66110   \n",
      "Nebraska                61630    65532    65121    67854    68359    72308   \n",
      "Nevada                  66630    65720    66044    67949    67029    70576   \n",
      "New Hampshire           77323    79706    80571    82393    86622    89735   \n",
      "New Jersey              90882    91868    94083    96963    99055   101061   \n",
      "New Mexico              57655    59314    59281    60600    61470    62747   \n",
      "New York                78726    80244    81441    84973    86563    89908   \n",
      "North Carolina          59053    60939    61807    64106    65099    67516   \n",
      "North Dakota            61289    66005    72495    73806    79136    81460   \n",
      "Ohio                    59654    61204    62775    65129    66252    68880   \n",
      "Oklahoma                56533    58515    60298    62014    64584    66260   \n",
      "Oregon                  61552    62778    64918    67494    69210    73144   \n",
      "Pennsylvania            65878    67298    69340    71597    73112    75981   \n",
      "Rhode Island            69840    72229    72656    76820    77146    78295   \n",
      "South Carolina          56365    57552    59042    59927    61903    64352   \n",
      "South Dakota            59391    61224    62807    64346    66580    68723   \n",
      "Tennessee               56835    58400    59547    62157    62734    66009   \n",
      "Texas                   66756    68936    70730    73422    75557    78862   \n",
      "Utah                    68176    69550    71875    75223    77413    79860   \n",
      "Vermont                 63768    67201    68644    69770    69973    74502   \n",
      "Virginia                81608    84041    84641    86618    88457    90556   \n",
      "Washington              71739    74186    75819    78093    81218    85653   \n",
      "West Virginia           50574    53269    53889    55787    54877    56568   \n",
      "Wisconsin               62376    64439    66021    67292    68953    72099   \n",
      "Wyoming                 66710    68886    68218    71780    72305    76934   \n",
      "Puerto Rico             29365    28865    29540    30247    29976    30545   \n",
      "\n",
      "                     HMI_2016 HMI_2017 HMI_2018 HMI_2019  \n",
      "State                                                     \n",
      "Alabama                 64632    66337    69091    71478  \n",
      "Alaska                  93312    92674    96080    98504  \n",
      "Arizona                 74053    77451    80477    84438  \n",
      "Arkansas                61167    63560    66766    68219  \n",
      "California              96961   101761   107384   113563  \n",
      "Colorado                88246    92465    96218   103518  \n",
      "Connecticut            105255   107420   111303   114630  \n",
      "Delaware                81349    86577    84896    92445  \n",
      "District of Columbia   114432   121095   124946   135369  \n",
      "Florida                 72784    76053    79968    83883  \n",
      "Georgia                 75363    79157    82489    86468  \n",
      "Hawaii                  95904    98553   103162   106247  \n",
      "Idaho                   68006    69958    73369    78975  \n",
      "Illinois                84561    88160    91424    95725  \n",
      "Indiana                 69612    71510    73733    78064  \n",
      "Iowa                    73644    75455    77173    80267  \n",
      "Kansas                  73385    75822    78972    82270  \n",
      "Kentucky                64852    67090    69724    72215  \n",
      "Louisiana               65696    65910    69225    72658  \n",
      "Maine                   70392    73598    73935    78303  \n",
      "Maryland               102402   106035   109774   114089  \n",
      "Massachusetts          101911   106641   110501   117482  \n",
      "Michigan                72581    75449    77682    80681  \n",
      "Minnesota               86415    90915    93047    96995  \n",
      "Mississippi             58974    60017    61944    65081  \n",
      "Missouri                70871    72959    75013    77885  \n",
      "Montana                 69308    70994    72648    77320  \n",
      "Nebraska                74586    77235    78793    82539  \n",
      "Nevada                  73383    78424    81039    86946  \n",
      "New Hampshire           90910    94780    97994   100882  \n",
      "New Jersey             105185   110120   114853   119301  \n",
      "New Mexico              64515    64604    66752    71591  \n",
      "New York                93373    97116   100422   107355  \n",
      "North Carolina          70544    74106    76693    80037  \n",
      "North Dakota            79185    80663    82435    85551  \n",
      "Ohio                    71456    73337    76151    79505  \n",
      "Oklahoma                66547    68020    71632    75537  \n",
      "Oregon                  77460    80144    85235    88449  \n",
      "Pennsylvania            78053    81006    83765    87789  \n",
      "Rhode Island            81215    85279    86601    92553  \n",
      "South Carolina          67889    70214    72742    78188  \n",
      "South Dakota            71385    73458    74046    77650  \n",
      "Tennessee               68104    72008    73456    78035  \n",
      "Texas                   80346    82768    85780    89681  \n",
      "Utah                    84117    86442    91096    96415  \n",
      "Vermont                 75854    76560    79514    83015  \n",
      "Virginia                93939    97639   100884   105091  \n",
      "Washington              90315    94297    99762   105775  \n",
      "West Virginia           60164    59557    61707    65842  \n",
      "Wisconsin               75113    77369    79656    82899  \n",
      "Wyoming                 75574    75855    81935    83155  \n",
      "Puerto Rico             31262    31094    32044    33055  \n"
     ]
    }
   ],
   "source": [
    "Tenyr_HMI=state_2010\n",
    "#print(Tenyr_HMI)\n",
    "\n",
    "for x in range (1,10):\n",
    "    df=pd.read_csv (r'/Users/mjungclaus/PycharmProjects/CRDDSProject/raw_data/ACSST1Y201'+str(x)+'.csv')\n",
    "    df = df.iloc[1: , :]\n",
    "    df=df[['S1901_C01_013E']]\n",
    "    df.rename(columns={\"S1901_C01_013E\": \"HMI_201\"+str(x)},inplace = True)\n",
    "    #print(df)\n",
    "    Tenyr_HMI=pd.concat([Tenyr_HMI, df], axis=1)\n",
    "    \n",
    "Tenyr_HMI = Tenyr_HMI.set_index('State')\n",
    "    \n",
    "print(Tenyr_HMI)\n",
    "    \n",
    "    \n"
   ]
  },
  {
   "cell_type": "markdown",
   "id": "9d7d13f0",
   "metadata": {},
   "source": [
    "Here, I will run a simple mean on all of the HMI values to ensure that the answers are in the right order of magnitude."
   ]
  },
  {
   "cell_type": "code",
   "execution_count": 8,
   "id": "414cf038",
   "metadata": {},
   "outputs": [
    {
     "data": {
      "text/plain": [
       "HMI_2010    1.072669e+258\n",
       "HMI_2011    1.100170e+258\n",
       "HMI_2012    1.103324e+259\n",
       "HMI_2013    1.140286e+259\n",
       "HMI_2014    1.143556e+260\n",
       "HMI_2015    1.198229e+261\n",
       "HMI_2016    1.242941e+263\n",
       "HMI_2017    1.275729e+264\n",
       "HMI_2018    1.328692e+267\n",
       "HMI_2019    1.374596e+270\n",
       "dtype: float64"
      ]
     },
     "execution_count": 8,
     "metadata": {},
     "output_type": "execute_result"
    }
   ],
   "source": [
    "Tenyr_HMI.mean(axis=0)"
   ]
  },
  {
   "cell_type": "markdown",
   "id": "f8c81ec7",
   "metadata": {},
   "source": [
    "I now see that all of the numbers from my CSV file were imported to the dataframe as 'float, which might be the reason that our numbers are being stored incorrectly. Now we will convert them all to type 'int' and try to find the mean again. "
   ]
  },
  {
   "cell_type": "code",
   "execution_count": 9,
   "id": "a8cc5b27",
   "metadata": {},
   "outputs": [],
   "source": [
    "Tenyr_HMI=Tenyr_HMI.astype(int)"
   ]
  },
  {
   "cell_type": "code",
   "execution_count": 10,
   "id": "875004d2",
   "metadata": {},
   "outputs": [
    {
     "data": {
      "text/plain": [
       "HMI_2010    65746.692308\n",
       "HMI_2011    67436.980769\n",
       "HMI_2012    68939.500000\n",
       "HMI_2013    71211.826923\n",
       "HMI_2014    72805.346154\n",
       "HMI_2015    75547.903846\n",
       "HMI_2016    78010.423077\n",
       "HMI_2017    80686.750000\n",
       "HMI_2018    83575.596154\n",
       "HMI_2019    87761.692308\n",
       "dtype: float64"
      ]
     },
     "execution_count": 10,
     "metadata": {},
     "output_type": "execute_result"
    }
   ],
   "source": [
    "Tenyr_HMI.mean(axis=0)"
   ]
  },
  {
   "cell_type": "code",
   "execution_count": 11,
   "id": "035c6feb",
   "metadata": {},
   "outputs": [
    {
     "data": {
      "text/plain": [
       "State\n",
       "Alabama                  62296.1\n",
       "Alaska                   89999.1\n",
       "Arizona                  71215.5\n",
       "Arkansas                 59192.9\n",
       "California               92820.0\n",
       "Colorado                 85180.2\n",
       "Connecticut             101582.2\n",
       "Delaware                 80556.5\n",
       "District of Columbia    111014.5\n",
       "Florida                  70550.0\n",
       "Georgia                  72313.0\n",
       "Hawaii                   91018.5\n",
       "Idaho                    65003.3\n",
       "Illinois                 82024.8\n",
       "Indiana                  66765.6\n",
       "Iowa                     70256.9\n",
       "Kansas                   71764.7\n",
       "Kentucky                 62201.9\n",
       "Louisiana                64409.3\n",
       "Maine                    67302.1\n",
       "Maryland                 99859.8\n",
       "Massachusetts            98065.4\n",
       "Michigan                 69254.2\n",
       "Minnesota                83240.5\n",
       "Mississippi              56380.1\n",
       "Missouri                 67546.0\n",
       "Montana                  65476.9\n",
       "Nebraska                 71395.7\n",
       "Nevada                   72374.0\n",
       "New Hampshire            88091.6\n",
       "New Jersey              102337.1\n",
       "New Mexico               62852.9\n",
       "New York                 90012.1\n",
       "North Carolina           67990.0\n",
       "North Dakota             76202.5\n",
       "Ohio                     68434.3\n",
       "Oklahoma                 64994.0\n",
       "Oregon                   73038.4\n",
       "Pennsylvania             75381.9\n",
       "Rhode Island             79263.4\n",
       "South Carolina           64817.4\n",
       "South Dakota             67961.0\n",
       "Tennessee                65728.5\n",
       "Texas                    77283.8\n",
       "Utah                     80016.7\n",
       "Vermont                  72880.1\n",
       "Virginia                 91347.4\n",
       "Washington               85685.7\n",
       "West Virginia            57223.4\n",
       "Wisconsin                71621.7\n",
       "Wyoming                  74135.2\n",
       "Puerto Rico              30599.3\n",
       "dtype: float64"
      ]
     },
     "execution_count": 11,
     "metadata": {},
     "output_type": "execute_result"
    }
   ],
   "source": [
    "Tenyr_HMI.mean(axis=1)"
   ]
  },
  {
   "cell_type": "markdown",
   "id": "5fb5d83a",
   "metadata": {},
   "source": [
    "We're all set - the numbers are registering correctly!\n",
    "\n",
    "There are quite a few decimal places after each HMI value, but that's OK for the purposes of this project. In a more advanced project, I might limit the decimal places to make the numbers more readable.\n",
    "\n",
    "Now, let's clean our next data set and get it ready for prime time, using the lessons that we learned from the HMI data."
   ]
  },
  {
   "cell_type": "code",
   "execution_count": 12,
   "id": "dcd31e3a",
   "metadata": {},
   "outputs": [],
   "source": [
    "Tenyr_const = pd.read_csv (r'/Users/mjungclaus/PycharmProjects/CRDDSProject/raw_data/State_Private_Spend.csv')   #read the csv file (put 'r' before the path string to address any special characters in the path, such as '\\'). Don't forget to put the file name at the end of the path + \".csv\"\n",
    "Tenyr_const = Tenyr_const.set_index('State')\n",
    "Tenyr_const=Tenyr_const.iloc[:,7:17]\n",
    "Tenyr_const=Tenyr_const.sort_values(by='State')\n",
    "Tenyr_const = Tenyr_const.replace(',','', regex=True)\n",
    "Tenyr_const=Tenyr_const.astype(int)\n",
    "\n",
    "#print(Tenyr_const)\n",
    "#Tenyr_const = Tenyr_const.iloc[1: , :]"
   ]
  },
  {
   "cell_type": "code",
   "execution_count": 13,
   "id": "1791a67c",
   "metadata": {},
   "outputs": [
    {
     "data": {
      "text/plain": [
       "2010    3342.745098\n",
       "2011    3283.588235\n",
       "2012    3720.274510\n",
       "2013    4041.019608\n",
       "2014    4630.843137\n",
       "2015    5527.803922\n",
       "2016    6139.411765\n",
       "2017    6291.274510\n",
       "2018    6645.431373\n",
       "2019    6999.588235\n",
       "dtype: float64"
      ]
     },
     "execution_count": 13,
     "metadata": {},
     "output_type": "execute_result"
    }
   ],
   "source": [
    "Tenyr_const.mean(axis=0)"
   ]
  },
  {
   "cell_type": "code",
   "execution_count": 14,
   "id": "bf901d61",
   "metadata": {},
   "outputs": [
    {
     "data": {
      "text/plain": [
       "State\n",
       "Alabama                  3510.9\n",
       "Alaska                    367.9\n",
       "Arizona                  4825.8\n",
       "Arkansas                 1921.8\n",
       "California              19667.6\n",
       "Colorado                 5176.1\n",
       "Connecticut              2015.9\n",
       "Delaware                  741.5\n",
       "District of Columbia     1802.4\n",
       "Florida                 12993.7\n",
       "Georgia                  7338.3\n",
       "Hawaii                   1107.4\n",
       "Idaho                    1129.9\n",
       "Illinois                 8417.7\n",
       "Indiana                  5612.3\n",
       "Iowa                     4872.0\n",
       "Kansas                   2864.3\n",
       "Kentucky                 3586.4\n",
       "Louisiana                9975.3\n",
       "Maine                     616.1\n",
       "Maryland                 3316.1\n",
       "Massachusetts            7954.4\n",
       "Michigan                 5893.8\n",
       "Minnesota                3979.8\n",
       "Mississippi              1665.8\n",
       "Missouri                 4289.6\n",
       "Montana                   776.5\n",
       "Nebraska                 1767.7\n",
       "Nevada                   3499.9\n",
       "New Hampshire             797.0\n",
       "New Jersey               4885.1\n",
       "New Mexico               1921.4\n",
       "New York                23636.4\n",
       "North Carolina           6920.6\n",
       "North Dakota             1551.4\n",
       "Ohio                     8353.9\n",
       "Oklahoma                 3271.7\n",
       "Oregon                   4115.3\n",
       "Pennsylvania             7940.8\n",
       "Rhode Island              662.6\n",
       "South Carolina           4075.4\n",
       "South Dakota              986.8\n",
       "Tennessee                5259.5\n",
       "Texas                   33230.7\n",
       "Utah                     2346.2\n",
       "Vermont                   442.1\n",
       "Virginia                 5013.3\n",
       "Washington               5838.6\n",
       "West Virginia             592.6\n",
       "Wisconsin                4086.6\n",
       "Wyoming                   557.2\n",
       "dtype: float64"
      ]
     },
     "execution_count": 14,
     "metadata": {},
     "output_type": "execute_result"
    }
   ],
   "source": [
    "Tenyr_const.mean(axis=1)\n"
   ]
  },
  {
   "cell_type": "markdown",
   "id": "4ae01603",
   "metadata": {},
   "source": [
    "Everything looks to be working well. Time to move on to analysis.\n",
    "\n",
    "# Data analysis and plots\n",
    "\n",
    "We'll start analyzing this data by plotting each variable for every state in 2010 in one graphic. I expect that this might look chaotic, but let's see what happens!"
   ]
  },
  {
   "cell_type": "code",
   "execution_count": 15,
   "id": "6c9e0dd9",
   "metadata": {},
   "outputs": [
    {
     "data": {
      "image/png": "[encoded data removed]",
      "text/plain": [
       "<Figure size 432x288 with 1 Axes>"
      ]
     },
     "metadata": {},
     "output_type": "display_data"
    }
   ],
   "source": [
    "Tenyr_HMI_states=Tenyr_HMI.drop(['Puerto Rico'])\n",
    "#print(Tenyr_HMI)\n",
    "\n",
    "Tenyr_comb = pd.concat([Tenyr_HMI_states, Tenyr_const], axis=1)\n",
    "\n",
    "x = Tenyr_comb[\"HMI_2010\"]\n",
    "y = Tenyr_comb[\"2010\"]\n",
    "\n",
    "plt.xlabel('Household Median Income ($)')\n",
    "\n",
    "plt.ylabel('Private Construction Spend ($)')\n",
    "\n",
    "plt.plot(x, y, 'o', color='black');"
   ]
  },
  {
   "cell_type": "markdown",
   "id": "ad550f2a",
   "metadata": {},
   "source": [
    "I thought of a lot, but I did not think of everything! \n",
    "\n",
    "While the X and Y axis labels look good, we could use a chart title.\n",
    "\n",
    "Further, if we plan to plot multiple sets of data, we should either limit the amount of data (top 10 or bottom 10 for a given category, making sure that our states are consistent) or work with some different colors.\n",
    "\n",
    "Let's start by taking the top 10 HMIs in 2010, applying a color, and applying a graphic title."
   ]
  },
  {
   "cell_type": "code",
   "execution_count": 16,
   "id": "898f9874",
   "metadata": {},
   "outputs": [
    {
     "data": {
      "image/png": "[encoded data removed]",
      "text/plain": [
       "<Figure size 432x288 with 1 Axes>"
      ]
     },
     "metadata": {},
     "output_type": "display_data"
    }
   ],
   "source": [
    "#Now, let's pick the top 10 for HMI and plot those\n",
    "\n",
    "Tenyr_comb=Tenyr_comb.sort_values(by='HMI_2010')\n",
    "\n",
    "\n",
    "x1 = Tenyr_comb.head(10)[\"HMI_2010\"]\n",
    "y1 = Tenyr_comb.head(10)[\"2010\"]\n",
    "\n",
    "\n",
    "plt.xlabel('Household Median Income ($)')\n",
    "\n",
    "plt.ylabel('Private Construction Spend ($)')\n",
    "\n",
    "plt.title(\"Top 10 HMIs in 2010 \",fontsize=15)\n",
    "\n",
    "    \n",
    "plt.plot(x1, y1, 'o', color='blue');\n",
    "\n",
    "\n",
    "\n",
    "#print(x2)\n",
    "#print(y2)"
   ]
  },
  {
   "cell_type": "markdown",
   "id": "adf71292",
   "metadata": {},
   "source": [
    "That was an effective way of titling the chart and limiting the data! Now that we can use different colors though, let's add more data for more years where we have HMI data. In the next plot, we'll add data for 2014 and 2019. \n",
    "\n",
    "To do this, we'll need to create 3 sets of X and Y coordinates.\n",
    "\n",
    "As with the last plot, this will also focus on the top 10 HMIs. In sorting the values, I was careful to ensure that a given state's data would stay together, by making the state name the row name index.\n",
    "\n",
    "In hindsight, I realize that there should be a legend for this plot and the next one, but I ran into several issues in trying to do so. Ultimately, I decided to leave this without a legend so that I could focus on wrapping up the project. \n",
    "\n",
    "Further, in these circumstances, I could use Markdown to identify \n",
    "- blue = 2010\n",
    "- red = 2014\n",
    "- green = 2019"
   ]
  },
  {
   "cell_type": "code",
   "execution_count": 18,
   "id": "755c29cf",
   "metadata": {},
   "outputs": [
    {
     "data": {
      "image/png": "[encoded data removed]",
      "text/plain": [
       "<Figure size 432x288 with 1 Axes>"
      ]
     },
     "metadata": {},
     "output_type": "display_data"
    }
   ],
   "source": [
    "#Now, let's do it for a few different years\n",
    "\n",
    "Tenyr_comb=Tenyr_comb.sort_values(by='HMI_2010')\n",
    "\n",
    "\n",
    "x1 = Tenyr_comb.head(10)[\"HMI_2010\"]\n",
    "y1 = Tenyr_comb.head(10)[\"2010\"]\n",
    "x2 = Tenyr_comb.head(10)[\"HMI_2014\"]\n",
    "y2 = Tenyr_comb.head(10)[\"2014\"]\n",
    "x3 = Tenyr_comb.head(10)[\"HMI_2019\"]\n",
    "y3 = Tenyr_comb.head(10)[\"2019\"]\n",
    "\n",
    "plt.xlabel('Household Median Income ($)')\n",
    "\n",
    "plt.ylabel('Private Construction Spend ($)')\n",
    "\n",
    "plt.title(\"Top 10 HMIs for 2010, 2014, 2019 \",fontsize=15)\n",
    "    \n",
    "plt.plot(x1, y1, 'o', color='blue');\n",
    "plt.plot(x2, y2, 'o', color='red');\n",
    "plt.plot(x3, y3, 'o', color='green');\n",
    "\n",
    "#plt.legend()\n",
    "\n",
    "#print(x2)\n",
    "#print(y2)\n"
   ]
  },
  {
   "cell_type": "markdown",
   "id": "1d0bf709",
   "metadata": {},
   "source": [
    "Now, I'll drop the 'head' to look at ALL points by year on one graph. Again, this will get chaotic, but could be interesting to view.\n",
    "\n",
    "Becauset here is no legend on the graphic, I will remind the reader that:\n",
    "- blue = 2010\n",
    "- red = 2014\n",
    "- green = 2019"
   ]
  },
  {
   "cell_type": "code",
   "execution_count": 19,
   "id": "beb90135",
   "metadata": {},
   "outputs": [
    {
     "data": {
      "image/png": "[encoded data removed]",
      "text/plain": [
       "<Figure size 432x288 with 1 Axes>"
      ]
     },
     "metadata": {},
     "output_type": "display_data"
    }
   ],
   "source": [
    "\n",
    "Tenyr_comb=Tenyr_comb.sort_values(by='HMI_2010')\n",
    "\n",
    "\n",
    "x1 = Tenyr_comb[\"HMI_2010\"]\n",
    "y1 = Tenyr_comb[\"2010\"]\n",
    "x2 = Tenyr_comb[\"HMI_2014\"]\n",
    "y2 = Tenyr_comb[\"2014\"]\n",
    "x3 = Tenyr_comb[\"HMI_2019\"]\n",
    "y3 = Tenyr_comb[\"2019\"]\n",
    "\n",
    "plt.xlabel('Household Median Income ($)')\n",
    "\n",
    "plt.ylabel('Private Construction Spend ($)')\n",
    "\n",
    "plt.title(\"All Data for 2010, 2014, 2019 \",fontsize=15)\n",
    "\n",
    "    \n",
    "plt.plot(x1, y1, 'o', color='blue');\n",
    "plt.plot(x2, y2, 'o', color='red');\n",
    "plt.plot(x3, y3, 'o', color='green');"
   ]
  },
  {
   "cell_type": "markdown",
   "id": "8fa44c61",
   "metadata": {},
   "source": [
    "It also seems that there could be some interesting patterns down at the bottom of the dataset (tail), so we will create a combined graphic with just the lowest HMIs.\n",
    "\n",
    "Becauset here is no legend on the graphic, I will remind the reader that:\n",
    "- blue = 2010\n",
    "- red = 2014\n",
    "- green = 2019"
   ]
  },
  {
   "cell_type": "code",
   "execution_count": 20,
   "id": "982d598c",
   "metadata": {},
   "outputs": [
    {
     "data": {
      "image/png": "[encoded data removed]",
      "text/plain": [
       "<Figure size 432x288 with 1 Axes>"
      ]
     },
     "metadata": {},
     "output_type": "display_data"
    }
   ],
   "source": [
    "Tenyr_comb=Tenyr_comb.sort_values(by='HMI_2010')\n",
    "\n",
    "\n",
    "x1 = Tenyr_comb.tail(10)[\"HMI_2010\"]\n",
    "y1 = Tenyr_comb.tail(10)[\"2010\"]\n",
    "x2 = Tenyr_comb.tail(10)[\"HMI_2014\"]\n",
    "y2 = Tenyr_comb.tail(10)[\"2014\"]\n",
    "x3 = Tenyr_comb.tail(10)[\"HMI_2019\"]\n",
    "y3 = Tenyr_comb.tail(10)[\"2019\"]\n",
    "\n",
    "plt.xlabel('Household Median Income ($)')\n",
    "\n",
    "plt.ylabel('Private Construction Spend ($)')\n",
    "\n",
    "plt.title(\"Bottom 10 HMIs for 2010, 2014, 2019 \",fontsize=15)\n",
    "\n",
    "    \n",
    "plt.plot(x1, y1, 'o', color='blue');\n",
    "plt.plot(x2, y2, 'o', color='red');\n",
    "plt.plot(x3, y3, 'o', color='green');"
   ]
  },
  {
   "cell_type": "markdown",
   "id": "7d981333",
   "metadata": {},
   "source": [
    "Finally, I'd like to create a best fit line for each year of data to practice different Python skills.\n",
    "\n",
    "Ideally, this could be run on different segments of the data - with consideration for outliers or other needs to modify the data. That said, this is for the sake of education and learning, so I will simply run it for all of the available data, rather than for subsets.\n",
    "\n",
    "Becauset here is no legend on the graphic, I will remind the reader that:\n",
    "- blue = 2010\n",
    "- red = 2014\n",
    "- green = 2019"
   ]
  },
  {
   "cell_type": "code",
   "execution_count": 22,
   "id": "265397bf",
   "metadata": {},
   "outputs": [
    {
     "data": {
      "image/png": "[encoded data removed]",
      "text/plain": [
       "<Figure size 432x288 with 1 Axes>"
      ]
     },
     "metadata": {},
     "output_type": "display_data"
    }
   ],
   "source": [
    "Tenyr_comb=Tenyr_comb.sort_values(by='HMI_2010')\n",
    "\n",
    "\n",
    "x1 = Tenyr_comb[\"HMI_2010\"]\n",
    "y1 = Tenyr_comb[\"2010\"]\n",
    "m1, b1 = np.polyfit(x1, y1, 1)\n",
    "x2 = Tenyr_comb[\"HMI_2014\"]\n",
    "y2 = Tenyr_comb[\"2014\"]\n",
    "m2, b2 = np.polyfit(x2, y2, 1)\n",
    "x3 = Tenyr_comb[\"HMI_2019\"]\n",
    "y3 = Tenyr_comb[\"2019\"]\n",
    "m3, b3 = np.polyfit(x3, y3, 1)\n",
    "\n",
    "plt.xlabel('Household Median Income ($)')\n",
    "\n",
    "plt.ylabel('Private Construction Spend ($)')\n",
    "\n",
    "plt.title(\"HMI vs. Construction Spend Best Fit\",fontsize=15)\n",
    "\n",
    "    \n",
    "plt.plot(x1, m1*x1+b1, color='blue');\n",
    "plt.plot(x2, m2*x2+b2, color='red');\n",
    "plt.plot(x3, m3*x3+b3, color='green');\n",
    "#plt.plot(x, m*x + b)\n"
   ]
  },
  {
   "cell_type": "markdown",
   "id": "bb51b98e",
   "metadata": {},
   "source": [
    "# Parting thoughts\n",
    "\n",
    "These graphics do show interesting patterns in the data, though I've only scratched the surface of what is possible with Python. Really, I chose a number of data cleaning and interpretation methods that were already familiar to me so that I could learn the Python syntax and fumble through a large number of errors that I encountered during this journey.\n",
    "\n",
    "In the future, to improve this data analysis, I would do a few things:\n",
    "- Provide more time for finding data. Because I was unable to find exactly the right data to answer my initial hypothesis, I changed gears a few times.\n",
    "- Spend more time thinking about outliers and patterns. This would have allowed for clearer analyses, better conclusions, and cleaner data. Instead, I focused on getting something together with the data that I had (rather than professionally cleaning and analyzing the data).\n",
    "- Figure out legends for my graphics. I tried and failed to successfully do so, but I have access to some articles that would help me work through labeling my legends correctly.\n",
    "- Write up a thorough analysis - I didn't feel this was worthwhile at this point, because I am more focused on learning the language than choosing statistical tests that would help me draw stronger conclusions.\n",
    "\n",
    "Thank you so much for an excellent and engaging class!"
   ]
  }
 ],
 "metadata": {
  "kernelspec": {
   "display_name": "Python 3",
   "language": "python",
   "name": "python3"
  },
  "language_info": {
   "codemirror_mode": {
    "name": "ipython",
    "version": 3
   },
   "file_extension": ".py",
   "mimetype": "text/x-python",
   "name": "python",
   "nbconvert_exporter": "python",
   "pygments_lexer": "ipython3",
   "version": "3.8.8"
  }
 },
 "nbformat": 4,
 "nbformat_minor": 5
}
